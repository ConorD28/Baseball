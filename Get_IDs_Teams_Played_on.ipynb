{
  "nbformat": 4,
  "nbformat_minor": 0,
  "metadata": {
    "colab": {
      "provenance": [],
      "authorship_tag": "ABX9TyNZJr5P4w+KDcxy7qcNQWyU",
      "include_colab_link": true
    },
    "kernelspec": {
      "name": "python3",
      "display_name": "Python 3"
    },
    "language_info": {
      "name": "python"
    }
  },
  "cells": [
    {
      "cell_type": "markdown",
      "metadata": {
        "id": "view-in-github",
        "colab_type": "text"
      },
      "source": [
        "<a href=\"https://colab.research.google.com/github/ConorD28/Baseball/blob/main/Get_IDs_Teams_Played_on.ipynb\" target=\"_parent\"><img src=\"https://colab.research.google.com/assets/colab-badge.svg\" alt=\"Open In Colab\"/></a>"
      ]
    },
    {
      "cell_type": "code",
      "source": [
        "!pip install pybaseball\n",
        "!pip install xlrd\n",
        "\n",
        "from pybaseball import statcast, statcast_batter, playerid_lookup\n",
        "import pandas as pd"
      ],
      "metadata": {
        "id": "VI7AiQ7SmR7Y"
      },
      "execution_count": null,
      "outputs": []
    },
    {
      "cell_type": "markdown",
      "source": [
        "# **Get Player IDs/Teams Played on in a Certain Year**"
      ],
      "metadata": {
        "id": "JVxq_nd7ZF8a"
      }
    },
    {
      "cell_type": "code",
      "source": [
        "data_year = statcast(\"2022-04-07\", \"2022-10-05\") #\"2021-04-01\", \"2021-10-03\", \"2023-03-30\", \"2023-10-01\""
      ],
      "metadata": {
        "collapsed": true,
        "id": "jN4Qyj7pR-Hf"
      },
      "execution_count": null,
      "outputs": []
    },
    {
      "cell_type": "code",
      "source": [
        "df = pd.read_csv('2022 400 PA Hitter names.csv')"
      ],
      "metadata": {
        "id": "ebeXfW4IYXXM",
        "collapsed": true
      },
      "execution_count": null,
      "outputs": []
    },
    {
      "cell_type": "code",
      "source": [
        "def reformat_name(name):\n",
        "    # Convert \"Last, First\" → \"First Last\"\n",
        "    try:\n",
        "        last, first = name.strip().split(\", \")\n",
        "        return f\"{first} {last}\"\n",
        "    except:\n",
        "        return None\n",
        "\n",
        "def get_player_id(first_last_name):\n",
        "    if not first_last_name:\n",
        "        return None\n",
        "    try:\n",
        "        first, last = first_last_name.split(\" \")\n",
        "        results = playerid_lookup(last, first)\n",
        "        if not results.empty:\n",
        "            return results.iloc[0]['key_mlbam']\n",
        "    except:\n",
        "        return None\n",
        "    return None\n",
        "\n",
        "def add_ID_team_column(df, data):\n",
        "    # Step 1: Reformat names and get MLBAM IDs\n",
        "    df['name_fixed'] = df['Name'].apply(reformat_name)\n",
        "\n",
        "    # #remove Jr. and II\n",
        "    df['name_fixed'] = df['name_fixed'].str.replace(' Jr.', '', regex=False)\n",
        "    df['name_fixed'] = df['name_fixed'].str.replace(' II', '', regex=False)\n",
        "\n",
        "    df['mlbam_id'] = df['name_fixed'].apply(get_player_id)\n",
        "    return df\n",
        "\n",
        "    data = data[['batter', 'home_team', 'away_team', 'inning_topbot']].dropna(subset=['batter'])\n",
        "\n",
        "    # Step 3: Create ID → team lookup\n",
        "    id_to_team = {}\n",
        "    unique_ids = df['mlbam_id'].dropna().unique()\n",
        "\n",
        "    for pid in unique_ids:\n",
        "        batter_data = data[data['batter'] == pid]\n",
        "        if batter_data.empty:\n",
        "            id_to_team[pid] = \"Did not bat in this year\"\n",
        "            continue\n",
        "        # Determine team from inning_topbot\n",
        "        batter_data['batting_team'] = batter_data.apply(\n",
        "            lambda row: row['away_team'] if row['inning_topbot'] == 'Top' else row['home_team'],\n",
        "            axis=1\n",
        "        )\n",
        "        most_common_team = batter_data['batting_team'].mode().iloc[0]\n",
        "        id_to_team[pid] = most_common_team\n",
        "\n",
        "    # Step 4: Map teams back to original dataframe\n",
        "    df['team'] = df['mlbam_id'].map(id_to_team)\n",
        "    df['mlbam_id'] = df['mlbam_id'].fillna(0).astype(int)\n",
        "\n",
        "    # Optional: drop helper columns\n",
        "    df.drop(columns=['name_fixed'], inplace=True)\n",
        "\n",
        "    return df\n",
        "\n",
        "players2 = add_ID_team_column(df, data_year)\n",
        "players2['mlbam_id_savant_search'] = '&batters_lookup%5B%5D=' + players2.mlbam_id.astype(str)"
      ],
      "metadata": {
        "collapsed": true,
        "id": "P8-KrqTDX585"
      },
      "execution_count": null,
      "outputs": []
    },
    {
      "cell_type": "code",
      "source": [
        "#players2[players2['mlbam_id'].isnull()]"
      ],
      "metadata": {
        "id": "VWUjj7wTfsTH"
      },
      "execution_count": null,
      "outputs": []
    },
    {
      "cell_type": "code",
      "source": [
        "players2.to_csv('2022 Players with IDs.csv') #manually get both values for rows with blanks"
      ],
      "metadata": {
        "id": "dweR59IYqP4a"
      },
      "execution_count": null,
      "outputs": []
    }
  ]
}